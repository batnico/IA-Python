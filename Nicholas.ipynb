{
  "nbformat": 4,
  "nbformat_minor": 0,
  "metadata": {
    "colab": {
      "name": "Nicholas.ipynb",
      "provenance": [],
      "authorship_tag": "ABX9TyO+jrKSfqrcUl9mufxn8UzH",
      "include_colab_link": true
    },
    "kernelspec": {
      "name": "python3",
      "display_name": "Python 3"
    }
  },
  "cells": [
    {
      "cell_type": "markdown",
      "metadata": {
        "id": "view-in-github",
        "colab_type": "text"
      },
      "source": [
        "<a href=\"https://colab.research.google.com/github/batnico/IA-Python/blob/feature/Nicholas.ipynb\" target=\"_parent\"><img src=\"https://colab.research.google.com/assets/colab-badge.svg\" alt=\"Open In Colab\"/></a>"
      ]
    },
    {
      "cell_type": "code",
      "metadata": {
        "id": "DQppr2H73wVe",
        "colab_type": "code",
        "outputId": "580d9396-bbf0-481d-94b9-09f81d87e36a",
        "colab": {
          "base_uri": "https://localhost:8080/",
          "height": 35
        }
      },
      "source": [
        "a=1\n",
        "print(a)\n"
      ],
      "execution_count": 2,
      "outputs": [
        {
          "output_type": "stream",
          "text": [
            "1\n"
          ],
          "name": "stdout"
        }
      ]
    },
    {
      "cell_type": "code",
      "metadata": {
        "id": "GFVjgs-76YBH",
        "colab_type": "code",
        "colab": {
          "base_uri": "https://localhost:8080/",
          "height": 53
        },
        "outputId": "e5f8a6cf-325e-453d-e216-f796d484feec"
      },
      "source": [
        "if 1==1:\n",
        "  print(\"ok\")\n",
        "  print(\"toto\")\n",
        "else:\n",
        "  print(\"nok\")\n"
      ],
      "execution_count": 3,
      "outputs": [
        {
          "output_type": "stream",
          "text": [
            "ok\n",
            "toto\n"
          ],
          "name": "stdout"
        }
      ]
    }
  ]
}